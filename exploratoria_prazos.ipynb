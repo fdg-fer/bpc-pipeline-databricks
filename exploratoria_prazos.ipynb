{
 "cells": [
  {
   "cell_type": "markdown",
   "metadata": {
    "application/vnd.databricks.v1+cell": {
     "cellMetadata": {},
     "inputWidgets": {},
     "nuid": "a88b0cda-14b0-42c2-9e92-dbb3226d20d2",
     "showTitle": false,
     "tableResultSettingsMap": {},
     "title": ""
    }
   },
   "source": [
    "# Visualização da Distribuição dos Prazos"
   ]
  },
  {
   "cell_type": "code",
   "execution_count": 0,
   "metadata": {
    "application/vnd.databricks.v1+cell": {
     "cellMetadata": {
      "byteLimit": 2048000,
      "rowLimit": 10000
     },
     "inputWidgets": {},
     "nuid": "0910292f-cd4f-4789-8ef2-f44fbe314566",
     "showTitle": false,
     "tableResultSettingsMap": {},
     "title": ""
    }
   },
   "outputs": [],
   "source": [
    "df_spark = spark.sql(\"\"\"\n",
    "  SELECT \n",
    "    competencia,\n",
    "    tipo_despacho,\n",
    "    dias_ate_despacho\n",
    "  FROM portfolio_inss.silver.silver_bpc_concessoes\n",
    "  WHERE dt_inicio_beneficio >= '2024-01-01'\n",
    "\"\"\")\n",
    "\n",
    "df = df_spark.toPandas()\n",
    "\n",
    "import matplotlib.pyplot as plt\n",
    "import seaborn as sns\n",
    "\n",
    "plt.figure(figsize=(12, 6))\n",
    "sns.boxplot(x='tipo_despacho', y='dias_ate_despacho', data=df)\n",
    "plt.title('Boxplot dos Dias até Despacho por Tipo de Despacho')\n",
    "plt.xlabel('Tipo de Despacho')\n",
    "plt.ylabel('Dias até Despacho')\n",
    "plt.show()\n"
   ]
  },
  {
   "cell_type": "code",
   "execution_count": 0,
   "metadata": {
    "application/vnd.databricks.v1+cell": {
     "cellMetadata": {
      "byteLimit": 2048000,
      "rowLimit": 10000
     },
     "inputWidgets": {},
     "nuid": "d288fe38-a7f4-4fb5-94b8-1a3d0cb97686",
     "showTitle": false,
     "tableResultSettingsMap": {},
     "title": ""
    }
   },
   "outputs": [],
   "source": [
    "df.groupby('tipo_despacho')['dias_ate_despacho'].describe()\n"
   ]
  },
  {
   "cell_type": "markdown",
   "metadata": {
    "application/vnd.databricks.v1+cell": {
     "cellMetadata": {},
     "inputWidgets": {},
     "nuid": "faf56295-51f6-4ed4-a884-832843b42cb8",
     "showTitle": false,
     "tableResultSettingsMap": {},
     "title": ""
    }
   },
   "source": [
    "### Análise da Distribuição do Prazo\n",
    "\n",
    "A distribuição dos prazos no grupo **administrativo** revela que:\n",
    "\n",
    "- Até o **25%(Q1)** dos dados, a variação dos prazos é relativamente pequena e concentrada.\n",
    "- Entre o **25%(Q1) e 50%(Q2)** e também até o **75%(Q3)**, a variação aumenta, mas ainda de forma moderada.\n",
    "- Já nos últimos **25% dos dados** (o quartil superior), a variação se torna muito mais expressiva, indicando uma cauda longa.\n",
    "\n",
    "Além disso, há uma grande quantidade de **outliers**, ou valores atípicos, que se destacam além do intervalo esperado.\n",
    "\n",
    "Por conta dessa dispersão e dos outliers, a **média acaba sofrendo um viés significativo**, tornando-se uma medida menos confiável para representar o prazo típico.\n",
    "\n",
    "Nesse cenário, a **mediana se mostra uma métrica mais robusta e confiável**, pois é menos sensível a valores extremos e oferece uma melhor representação do prazo central.\n",
    "\n",
    "A distribuição dos prazos no grupo **judicial** revela que:\n",
    "\n",
    "- Diferentemente do grupo administrativo, o judicial demonstra uma maior uniformidade nos prazos.  \n",
    "- Os quartis indicam uma distribuição próxima da normal, sem discrepâncias significativas entre eles.  \n",
    "- Há presença de outliers, porém em menor quantidade e de forma mais tímida, principalmente no limite inferior.  \n",
    "\n",
    "Dessa forma, a **média pode ser utilizada com segurança**, pois não há distorções significativas, tornando-a uma medida confiável para representar o prazo típico nesse grupo.\n"
   ]
  },
  {
   "cell_type": "markdown",
   "metadata": {
    "application/vnd.databricks.v1+cell": {
     "cellMetadata": {},
     "inputWidgets": {},
     "nuid": "03a0d88f-a7f0-4430-9e4d-d2571441f1e5",
     "showTitle": false,
     "tableResultSettingsMap": {},
     "title": ""
    }
   },
   "source": [
    "# Interpretação da Distribuição"
   ]
  },
  {
   "cell_type": "code",
   "execution_count": 0,
   "metadata": {
    "application/vnd.databricks.v1+cell": {
     "cellMetadata": {
      "byteLimit": 2048000,
      "rowLimit": 10000
     },
     "inputWidgets": {},
     "nuid": "8dfe303c-5389-4cce-ba0a-ef0eb920056f",
     "showTitle": false,
     "tableResultSettingsMap": {},
     "title": ""
    },
    "jupyter": {
     "source_hidden": true
    }
   },
   "outputs": [],
   "source": [
    "import matplotlib.pyplot as plt\n",
    "import seaborn as sns\n",
    "\n",
    "plt.figure(figsize=(12, 6))\n",
    "\n",
    "# Define cores para cada grupo\n",
    "cores = {\n",
    "    'administrativo': '#66c2a5',\n",
    "    'judicial': '#fc8d62'\n",
    "}\n",
    "\n",
    "# Loop para plotar cada tipo separadamente\n",
    "for tipo, cor in cores.items():\n",
    "    subset = df[df['tipo_despacho'] == tipo]\n",
    "    sns.histplot(\n",
    "        subset['dias_ate_despacho'],\n",
    "        bins=60,\n",
    "        kde=True,\n",
    "        stat='density',\n",
    "        color=cor,\n",
    "        label=tipo,\n",
    "        alpha=0.6\n",
    "    )\n",
    "\n",
    "plt.title('Distribuição de Dias até Despacho por Tipo de Despacho')\n",
    "plt.xlabel('Dias até Despacho')\n",
    "plt.ylabel('Densidade')\n",
    "plt.xlim(0, 600)\n",
    "plt.grid(True)\n",
    "\n",
    "# Agora a legenda funciona porque os \"label\" foram definidos no loop\n",
    "plt.legend(title='Tipo de Despacho')\n",
    "plt.tight_layout()\n",
    "plt.show()\n"
   ]
  },
  {
   "cell_type": "code",
   "execution_count": 0,
   "metadata": {
    "application/vnd.databricks.v1+cell": {
     "cellMetadata": {
      "byteLimit": 2048000,
      "rowLimit": 10000
     },
     "inputWidgets": {},
     "nuid": "5b25471c-b7c3-45bc-a302-c987bc958fc2",
     "showTitle": true,
     "tableResultSettingsMap": {},
     "title": "Distribuição Assimetria"
    },
    "jupyter": {
     "source_hidden": true
    }
   },
   "outputs": [],
   "source": [
    "df.groupby(\"tipo_despacho\")[\"dias_ate_despacho\"].skew()"
   ]
  },
  {
   "cell_type": "markdown",
   "metadata": {
    "application/vnd.databricks.v1+cell": {
     "cellMetadata": {},
     "inputWidgets": {},
     "nuid": "361a08ea-5d85-469a-9420-db8c1c31dc41",
     "showTitle": false,
     "tableResultSettingsMap": {},
     "title": ""
    }
   },
   "source": [
    "## Análise de Tendência Central: Média ou Mediana?\n",
    "\n",
    "\n",
    "\n",
    "###  1. **Skewness (Assimetria)**\n",
    "\n",
    "- Valores próximos de **0** indicam **distribuição simétrica**.\n",
    "- Valores **maiores que 1 ou menores que -1** indicam **assimetria forte**.\n",
    "\n",
    "###  2. **Análise Visual**\n",
    "- **Cauda longa à direita** → Assimetria **positiva** → **Use mediana**\n",
    "- **Distribuição simétrica** → Pode usar **média**\n",
    "\n",
    "---\n",
    "\n",
    "###  Interpretação dos Valores de Skewness\n",
    "\n",
    "| Tipo de despacho  | Skewness | Interpretação                                 | Implicação                                      |\n",
    "|-------------------|----------|-----------------------------------------------|-------------------------------------------------|\n",
    "| Administrativo    | **+0.996** | Assimetria positiva moderada a forte          | A média é puxada para cima → **Use a mediana**  |\n",
    "| Judicial          | **−0.403** | Assimetria negativa leve                      | Distribuição razoavelmente simétrica → **Pode usar média ou mediana** |\n",
    "\n"
   ]
  },
  {
   "cell_type": "markdown",
   "metadata": {
    "application/vnd.databricks.v1+cell": {
     "cellMetadata": {},
     "inputWidgets": {},
     "nuid": "6f9e5db5-7673-4e00-ae8a-e4f321be4997",
     "showTitle": false,
     "tableResultSettingsMap": {},
     "title": ""
    }
   },
   "source": [
    "---\n",
    "Após compreender a dinâmica geral dos prazos por tipo de despacho, exploramos também o tipo de benefício (Idoso e Pessoa com Deficiência) com o objetivo de verificar se há diferenças estruturais relevantes que poderiam influenciar os resultados anteriores. Essa análise atua como uma etapa de validação e reforço da nossa interpretação.\n"
   ]
  },
  {
   "cell_type": "markdown",
   "metadata": {
    "application/vnd.databricks.v1+cell": {
     "cellMetadata": {},
     "inputWidgets": {},
     "nuid": "a514666d-e87e-4889-87f0-ec9e8ff14980",
     "showTitle": false,
     "tableResultSettingsMap": {},
     "title": ""
    }
   },
   "source": [
    "## Visualização da Distribuição dos Prazos por Tipo de Despacho e Benefício"
   ]
  },
  {
   "cell_type": "code",
   "execution_count": 0,
   "metadata": {
    "application/vnd.databricks.v1+cell": {
     "cellMetadata": {
      "byteLimit": 2048000,
      "rowLimit": 10000
     },
     "inputWidgets": {},
     "nuid": "b0720eb3-d4ae-40b2-9cc6-35e8b0fc00bc",
     "showTitle": false,
     "tableResultSettingsMap": {},
     "title": ""
    },
    "jupyter": {
     "source_hidden": true
    }
   },
   "outputs": [],
   "source": [
    "df_spark = spark.sql(\"\"\"\n",
    "  SELECT \n",
    "    competencia,\n",
    "    beneficio,\n",
    "    tipo_despacho,\n",
    "    dias_ate_despacho\n",
    "  FROM portfolio_inss.silver.silver_bpc_concessoes\n",
    "  WHERE dt_inicio_beneficio >= '2024-01-01'\n",
    "\"\"\")\n",
    "\n",
    "import pandas as pd\n",
    "import seaborn as sns\n",
    "import matplotlib.pyplot as plt\n",
    "\n",
    "# Converte para pandas\n",
    "df_pandas = df_spark.toPandas()\n",
    "\n",
    "# Remove valores nulos e filtra outliers extremos, se necessário (opcional)\n",
    "df_pandas = df_pandas.dropna(subset=['dias_ate_despacho'])\n",
    "\n",
    "# Define o estilo do gráfico\n",
    "plt.figure(figsize=(12, 6))\n",
    "sns.boxplot(\n",
    "    data=df_pandas,\n",
    "    x='beneficio',\n",
    "    y='dias_ate_despacho',\n",
    "    hue='tipo_despacho'\n",
    ")\n",
    "\n",
    "plt.title('Distribuição dos dias até o despacho por benefício e tipo de despacho')\n",
    "plt.xlabel('Benefício')\n",
    "plt.ylabel('Dias até despacho')\n",
    "plt.legend(title='Tipo de despacho')\n",
    "plt.xticks(rotation=45)\n",
    "plt.tight_layout()\n",
    "plt.show()\n"
   ]
  },
  {
   "cell_type": "code",
   "execution_count": 0,
   "metadata": {
    "application/vnd.databricks.v1+cell": {
     "cellMetadata": {
      "byteLimit": 2048000,
      "rowLimit": 10000
     },
     "inputWidgets": {},
     "nuid": "75d7e3f6-6fc9-4fdb-a666-1735f22abdff",
     "showTitle": true,
     "tableResultSettingsMap": {},
     "title": "Describe Administrativo por Benefício"
    },
    "jupyter": {
     "source_hidden": true
    }
   },
   "outputs": [],
   "source": [
    "# Administrativo\n",
    "df_adm = df_pandas[df_pandas['tipo_despacho'] == 'administrativo']\n",
    "desc_adm = df_adm.groupby('beneficio')['dias_ate_despacho'].describe()\n",
    "print(desc_adm.T)  # Transposto para facilitar a leitura"
   ]
  },
  {
   "cell_type": "code",
   "execution_count": 0,
   "metadata": {
    "application/vnd.databricks.v1+cell": {
     "cellMetadata": {
      "byteLimit": 2048000,
      "rowLimit": 10000
     },
     "inputWidgets": {},
     "nuid": "e49d9341-dd9e-42f0-8857-97b936508779",
     "showTitle": true,
     "tableResultSettingsMap": {},
     "title": "Describe Judicial por Benefício"
    },
    "jupyter": {
     "source_hidden": true
    }
   },
   "outputs": [],
   "source": [
    "# Judicial\n",
    "df_judicial = df_pandas[df_pandas['tipo_despacho'] == 'judicial']\n",
    "desc_jud = df_judicial.groupby('beneficio')['dias_ate_despacho'].describe()\n",
    "print(desc_jud.T)  # Transposto para facilitar a leitura\n"
   ]
  },
  {
   "cell_type": "markdown",
   "metadata": {
    "application/vnd.databricks.v1+cell": {
     "cellMetadata": {},
     "inputWidgets": {},
     "nuid": "dba11fcd-184d-4f31-9ec9-ffdfcaaa77e0",
     "showTitle": false,
     "tableResultSettingsMap": {},
     "title": ""
    }
   },
   "source": [
    "## Análise dos Prazos por Tipo de Despacho e Benefício\n",
    "\n",
    "Ao analisar os prazos no âmbito administrativo e judicial, considerando o benefício BPC para Idoso e Pessoa com Deficiência, o objetivo é destrinchar se há distorções nos tempos de processamento entre esses grupos.\n",
    "\n",
    "- Avaliamos se os prazos diferem significativamente entre os tipos de despacho (administrativo vs judicial).  \n",
    "- Investigamos a existência de discrepâncias nos prazos entre os benefícios BPC Idoso e BPC Deficiente.  \n",
    "- Buscamos compreender se essas diferenças podem indicar padrões distintos de tramitação e possíveis distorções no processo.\n",
    "\n",
    "---\n",
    "### Conclusão\n",
    "\n",
    "**Judicial**\n",
    "\n",
    "Para os dois tipos de benefício (**Pessoa com Deficiência** e **Idoso**), os valores de média, mediana e quartis são relativamente próximos.  \n",
    "Isso sugere que o tempo médio dos processos judiciais é semelhante para esses benefícios, e a distribuição dos prazos não apresenta grandes discrepâncias entre eles.  \n",
    "Ou seja, o comportamento dos prazos judiciais é mais homogêneo entre os dois grupos.\n",
    "\n",
    "\n",
    "\n",
    "**Administrativo**\n",
    "\n",
    "Já aqui a história é diferente. Existe uma discrepância clara entre os prazos para os dois benefícios.\n",
    "\n",
    "- A média para **Pessoa com Deficiência** está em torno de **131 dias**, enquanto para **Idoso** é de apenas **50 dias** — uma diferença significativa.  \n",
    "- Essa diferença se reflete também nos quartis (25%, 50%, 75%), mostrando que não é um problema de outliers isolados, mas sim um padrão consistente.  \n",
    "- Isso indica que os processos administrativos para **Pessoa com Deficiência** tendem a levar mais tempo que para o **Idoso**.\n",
    "\n",
    "\n",
    "---\n",
    "\n",
    ">  **Conclusão prática:**  \n",
    "> - Para **administrativo**, a **mediana** é mais representativa.  \n",
    "> - Para **judicial**, a **média** é aceitável, mas a **mediana** continua sendo mais robusta, especialmente se houver outliers.\n"
   ]
  }
 ],
 "metadata": {
  "application/vnd.databricks.v1+notebook": {
   "computePreferences": {
    "hardware": {
     "accelerator": null,
     "gpuPoolId": null,
     "memory": null
    }
   },
   "dashboards": [],
   "environmentMetadata": {
    "base_environment": "",
    "environment_version": "3"
   },
   "inputWidgetPreferences": null,
   "language": "python",
   "notebookMetadata": {
    "mostRecentlyExecutedCommandWithImplicitDF": {
     "commandId": -1,
     "dataframes": [
      "_sqldf"
     ]
    },
    "pythonIndentUnit": 4
   },
   "notebookName": "exploratoria_prazos",
   "widgets": {}
  },
  "language_info": {
   "name": "python"
  }
 },
 "nbformat": 4,
 "nbformat_minor": 0
}
