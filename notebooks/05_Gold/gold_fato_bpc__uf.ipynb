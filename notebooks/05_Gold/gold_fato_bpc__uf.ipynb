{
 "cells": [
  {
   "cell_type": "code",
   "execution_count": 0,
   "metadata": {
    "application/vnd.databricks.v1+cell": {
     "cellMetadata": {
      "byteLimit": 2048000,
      "implicitDf": true,
      "rowLimit": 10000
     },
     "inputWidgets": {},
     "nuid": "43bacd1b-4619-4c21-b4c5-c3c839de8fdc",
     "showTitle": false,
     "tableResultSettingsMap": {
      "0": {
       "dataGridStateBlob": "{\"version\":1,\"tableState\":{\"columnPinning\":{\"left\":[\"#row_number#\"],\"right\":[]},\"columnSizing\":{},\"columnVisibility\":{}},\"settings\":{\"columns\":{}},\"syncTimestamp\":1754058144119}",
       "filterBlob": null,
       "queryPlanFiltersBlob": null,
       "tableResultIndex": 0
      }
     },
     "title": ""
    }
   },
   "outputs": [],
   "source": [
    "%sql\n",
    "\n",
    "create or replace table portfolio_inss.gold.gold_fato_bpc_uf as (\n",
    "  WITH \n",
    "\n",
    "  -- Cálculo dos prazos médios por tipo\n",
    "  prazo_medio AS (\n",
    "    SELECT\n",
    "      competencia,\n",
    "      beneficio,\n",
    "      uf_final,\n",
    "      tipo_despacho,\n",
    "      ROUND(avg(dias_ate_despacho), 1) AS prazo_medio,\n",
    "      ROUND(median(dias_ate_despacho), 1) AS prazo_mediana\n",
    "    FROM portfolio_inss.silver.silver_bpc_concessoes\n",
    "    WHERE dt_inicio_beneficio >= '2024-01-01'\n",
    "    GROUP BY competencia, beneficio, tipo_despacho, uf_final\n",
    "  ),\n",
    "\n",
    "  -- Cálculo da quantidade por tipo\n",
    "  qtd_processos AS (\n",
    "    SELECT\n",
    "      competencia,\n",
    "      beneficio,\n",
    "      uf_final,\n",
    "      SUM(CASE WHEN tipo_despacho = 'administrativo' THEN 1 ELSE 0 END) AS qtd_administrativo,\n",
    "      SUM(CASE WHEN tipo_despacho = 'judicial' THEN 1 ELSE 0 END) AS qtd_judicial\n",
    "    FROM portfolio_inss.silver.silver_bpc_concessoes\n",
    "    WHERE dt_inicio_beneficio >= '2024-01-01'\n",
    "    GROUP BY competencia, beneficio, uf_final\n",
    "\n",
    "  )\n",
    "\n",
    "  -- Tabela final\n",
    "  SELECT\n",
    "    q.competencia,\n",
    "    q.uf_final,\n",
    "    q.beneficio,\n",
    "    q.qtd_administrativo,\n",
    "    q.qtd_judicial,\n",
    "    (q.qtd_administrativo + q.qtd_judicial) AS qtd_total_concedido,\n",
    "    ROUND(q.qtd_judicial / NULLIF((q.qtd_administrativo + q.qtd_judicial), 0), 3) AS pct_judicializacao,\n",
    "    MAX(CASE WHEN p.tipo_despacho = 'administrativo' THEN p.prazo_mediana END) AS prazo_mediana_adm,\n",
    "    MAX(CASE WHEN p.tipo_despacho = 'judicial' THEN p.prazo_medio END) AS prazo_medio_jud\n",
    "  FROM qtd_processos q\n",
    "  LEFT JOIN prazo_medio p \n",
    "    ON q.competencia = p.competencia \n",
    "    AND q.uf_final = p.uf_final\n",
    "    AND q.beneficio = p.beneficio\n",
    "  GROUP BY \n",
    "    q.competencia,\n",
    "    q.uf_final,\n",
    "    q.beneficio,\n",
    "    q.qtd_administrativo,\n",
    "    q.qtd_judicial\n",
    "  ORDER BY q.competencia, q.uf_final, q.beneficio\n",
    ")\n"
   ]
  }
 ],
 "metadata": {
  "application/vnd.databricks.v1+notebook": {
   "computePreferences": {
    "hardware": {
     "accelerator": null,
     "gpuPoolId": null,
     "memory": null
    }
   },
   "dashboards": [],
   "environmentMetadata": {
    "base_environment": "",
    "environment_version": "3"
   },
   "inputWidgetPreferences": null,
   "language": "python",
   "notebookMetadata": {
    "mostRecentlyExecutedCommandWithImplicitDF": {
     "commandId": 5145772761869767,
     "dataframes": [
      "_sqldf"
     ]
    },
    "pythonIndentUnit": 4
   },
   "notebookName": "gold_fato_bpc__uf",
   "widgets": {}
  },
  "language_info": {
   "name": "python"
  }
 },
 "nbformat": 4,
 "nbformat_minor": 0
}
