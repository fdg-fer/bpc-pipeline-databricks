{
 "cells": [
  {
   "cell_type": "code",
   "execution_count": 0,
   "metadata": {
    "application/vnd.databricks.v1+cell": {
     "cellMetadata": {
      "byteLimit": 2048000,
      "implicitDf": true,
      "rowLimit": 10000
     },
     "inputWidgets": {},
     "nuid": "d2bfdff2-3fd5-4a3e-8af1-9a643edb029a",
     "showTitle": false,
     "tableResultSettingsMap": {},
     "title": ""
    }
   },
   "outputs": [],
   "source": [
    "%sql\n",
    "-- Criação da tabela de calendário no Databricks com nomes de meses em português\n",
    "CREATE OR REPLACE TABLE portfolio_inss.gold.gold_dim_calendario AS\n",
    "SELECT \n",
    "  data_calendario,\n",
    "  YEAR(data_calendario) AS ano,\n",
    "  MONTH(data_calendario) AS mes,\n",
    "  DATE_FORMAT(data_calendario, 'yyyy-MM') AS ano_mes,\n",
    "  quarter(data_calendario) AS trimestre,\n",
    "  \n",
    "  -- Nome do mês completo em português\n",
    "  CASE MONTH(data_calendario)\n",
    "    WHEN 1 THEN 'Janeiro'\n",
    "    WHEN 2 THEN 'Fevereiro'\n",
    "    WHEN 3 THEN 'Março'\n",
    "    WHEN 4 THEN 'Abril'\n",
    "    WHEN 5 THEN 'Maio'\n",
    "    WHEN 6 THEN 'Junho'\n",
    "    WHEN 7 THEN 'Julho'\n",
    "    WHEN 8 THEN 'Agosto'\n",
    "    WHEN 9 THEN 'Setembro'\n",
    "    WHEN 10 THEN 'Outubro'\n",
    "    WHEN 11 THEN 'Novembro'\n",
    "    WHEN 12 THEN 'Dezembro'\n",
    "  END AS nome_mes_completo,\n",
    "\n",
    "  -- Nome do mês abreviado (3 letras) em português\n",
    "  CASE MONTH(data_calendario)\n",
    "    WHEN 1 THEN 'Jan'\n",
    "    WHEN 2 THEN 'Fev'\n",
    "    WHEN 3 THEN 'Mar'\n",
    "    WHEN 4 THEN 'Abr'\n",
    "    WHEN 5 THEN 'Mai'\n",
    "    WHEN 6 THEN 'Jun'\n",
    "    WHEN 7 THEN 'Jul'\n",
    "    WHEN 8 THEN 'Ago'\n",
    "    WHEN 9 THEN 'Set'\n",
    "    WHEN 10 THEN 'Out'\n",
    "    WHEN 11 THEN 'Nov'\n",
    "    WHEN 12 THEN 'Dez'\n",
    "  END AS nome_mes_abreviado,\n",
    "\n",
    "  CASE \n",
    "    WHEN MONTH(data_calendario) BETWEEN 1 AND 3 THEN 'T1'\n",
    "    WHEN MONTH(data_calendario) BETWEEN 4 AND 6 THEN 'T2'\n",
    "    WHEN MONTH(data_calendario) BETWEEN 7 AND 9 THEN 'T3'\n",
    "    ELSE 'T4'\n",
    "  END AS nome_trimestre\n",
    "\n",
    "FROM (\n",
    "  SELECT explode(sequence(to_date('2024-01-01'), to_date('2025-12-31'), interval 1 day)) AS data_calendario\n",
    ")\n",
    "ORDER BY data_calendario;\n",
    "\n"
   ]
  }
 ],
 "metadata": {
  "application/vnd.databricks.v1+notebook": {
   "computePreferences": null,
   "dashboards": [],
   "environmentMetadata": {
    "base_environment": "",
    "environment_version": "2"
   },
   "inputWidgetPreferences": null,
   "language": "python",
   "notebookMetadata": {
    "mostRecentlyExecutedCommandWithImplicitDF": {
     "commandId": 5145772761869766,
     "dataframes": [
      "_sqldf"
     ]
    },
    "pythonIndentUnit": 4
   },
   "notebookName": "gold_dim_calendario",
   "widgets": {}
  },
  "language_info": {
   "name": "python"
  }
 },
 "nbformat": 4,
 "nbformat_minor": 0
}
