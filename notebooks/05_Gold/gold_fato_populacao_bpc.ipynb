{
 "cells": [
  {
   "cell_type": "code",
   "execution_count": 0,
   "metadata": {
    "application/vnd.databricks.v1+cell": {
     "cellMetadata": {
      "byteLimit": 2048000,
      "implicitDf": true,
      "rowLimit": 10000
     },
     "inputWidgets": {},
     "nuid": "6a3f8ccc-dab5-4fb6-8dda-8d9fb5173cc0",
     "showTitle": false,
     "tableResultSettingsMap": {
      "0": {
       "dataGridStateBlob": "{\"version\":1,\"tableState\":{\"columnPinning\":{\"left\":[\"#row_number#\"],\"right\":[]},\"columnSizing\":{\"beneficio\":343},\"columnVisibility\":{}},\"settings\":{\"columns\":{}},\"syncTimestamp\":1754143649712}",
       "filterBlob": null,
       "queryPlanFiltersBlob": null,
       "tableResultIndex": 0
      }
     },
     "title": ""
    }
   },
   "outputs": [],
   "source": [
    "%sql\n",
    "create or replace table portfolio_inss.gold.gold_fato_populacao_bpc as(\n",
    "\n",
    "WITH \n",
    "  bpc AS (\n",
    "      SELECT \n",
    "        uf_final,\n",
    "        beneficio,\n",
    "        SUM(qtd_total_concedido) AS qtd_beneficio_bpc,\n",
    "        count(distinct competencia) as qtd_competencias,\n",
    "        round(qtd_beneficio_bpc/qtd_competencias, 0) as media_beneficio\n",
    "      FROM portfolio_inss.gold.gold_bpc_uf\n",
    "      where competencia >= '2025-01-01'\n",
    "      GROUP BY\n",
    "        uf_final, beneficio\n",
    "  ), \n",
    "  populacao_bpc AS (\n",
    "      SELECT \n",
    "        sigla_uf,\n",
    "        nome_uf,\n",
    "        SUM(CASE WHEN idade_anos < 65 THEN populacao ELSE 0 END) AS populacao_deficiente,\n",
    "        SUM(CASE WHEN idade_anos >= 65 THEN populacao ELSE 0 END) AS populacao_idosa\n",
    "      FROM portfolio_inss.silver.silver_ibge_populacao_uf\n",
    "      GROUP BY sigla_uf ,nome_uf\n",
    "  )\n",
    "SELECT \n",
    "    p.sigla_uf,\n",
    "    b.uf_final,\n",
    "    b.beneficio,\n",
    "    b.qtd_beneficio_bpc,\n",
    "    b.media_beneficio,\n",
    "    CASE \n",
    "        WHEN b.beneficio = 'Amp. Social Pessoa Portadora Deficiencia' THEN p.populacao_deficiente\n",
    "        WHEN b.beneficio = 'Amparo Social ao Idoso' THEN p.populacao_idosa\n",
    "        ELSE NULL\n",
    "    END AS populacao_alvo\n",
    "FROM bpc b\n",
    "LEFT JOIN populacao_bpc p\n",
    "    ON b.uf_final = p.nome_uf\n",
    ")"
   ]
  }
 ],
 "metadata": {
  "application/vnd.databricks.v1+notebook": {
   "computePreferences": null,
   "dashboards": [],
   "environmentMetadata": {
    "base_environment": "",
    "environment_version": "2"
   },
   "inputWidgetPreferences": null,
   "language": "python",
   "notebookMetadata": {
    "mostRecentlyExecutedCommandWithImplicitDF": {
     "commandId": 5996212157070169,
     "dataframes": [
      "_sqldf"
     ]
    },
    "pythonIndentUnit": 4
   },
   "notebookName": "gold_fato_populacao_bpc",
   "widgets": {}
  },
  "language_info": {
   "name": "python"
  }
 },
 "nbformat": 4,
 "nbformat_minor": 0
}
