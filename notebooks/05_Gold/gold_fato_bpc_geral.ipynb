{
 "cells": [
  {
   "cell_type": "code",
   "execution_count": 0,
   "metadata": {
    "application/vnd.databricks.v1+cell": {
     "cellMetadata": {},
     "inputWidgets": {},
     "nuid": "c6650556-d5b4-427c-b9f8-b71678dfc337",
     "showTitle": false,
     "tableResultSettingsMap": {},
     "title": ""
    }
   },
   "outputs": [],
   "source": []
  },
  {
   "cell_type": "code",
   "execution_count": 0,
   "metadata": {
    "application/vnd.databricks.v1+cell": {
     "cellMetadata": {
      "byteLimit": 2048000,
      "implicitDf": true,
      "rowLimit": 10000
     },
     "inputWidgets": {},
     "nuid": "acf23050-9acb-41ca-9752-1c3847a8701a",
     "showTitle": false,
     "tableResultSettingsMap": {},
     "title": ""
    }
   },
   "outputs": [],
   "source": [
    "%sql\n",
    "\n",
    "create or replace table portfolio_inss.gold.gold_fato_bpc_geral (\n",
    "  WITH \n",
    "  -- Cálculo dos prazos médios por tipo\n",
    "  \n",
    "  prazo_medio AS (\n",
    "    SELECT\n",
    "      competencia,\n",
    "      beneficio,\n",
    "      tipo_despacho,\n",
    "      ROUND(avg(dias_ate_despacho), 1) AS prazo_medio,\n",
    "      ROUND(median(dias_ate_despacho), 1) AS prazo_mediana\n",
    "    FROM portfolio_inss.silver.silver_bpc_concessoes\n",
    "    WHERE dt_inicio_beneficio >= '2024-01-01'\n",
    "    GROUP BY competencia, beneficio, tipo_despacho\n",
    "  ),\n",
    "\n",
    "  -- Cálculo da quantidade por tipo\n",
    "  qtd_processos AS (\n",
    "    SELECT\n",
    "      competencia,\n",
    "      beneficio,\n",
    "      SUM(CASE WHEN tipo_despacho = 'administrativo' THEN 1 ELSE 0 END) AS qtd_administrativo,\n",
    "      SUM(CASE WHEN tipo_despacho = 'judicial' THEN 1 ELSE 0 END) AS qtd_judicial\n",
    "    FROM portfolio_inss.silver.silver_bpc_concessoes\n",
    "    WHERE dt_inicio_beneficio >= '2024-01-01'\n",
    "    GROUP BY competencia, beneficio\n",
    "  )\n",
    "\n",
    "  -- Tabela final\n",
    "  SELECT\n",
    "    q.competencia,\n",
    "    q.beneficio,\n",
    "    q.qtd_administrativo,\n",
    "    q.qtd_judicial,\n",
    "    (q.qtd_administrativo + q.qtd_judicial) AS qtd_total_concedido,\n",
    "    ROUND(q.qtd_judicial / NULLIF((q.qtd_administrativo + q.qtd_judicial), 0), 3) AS pct_judicializacao,\n",
    "    MAX(CASE WHEN p.tipo_despacho = 'administrativo' THEN p.prazo_mediana END) AS prazo_mediana_adm,\n",
    "    MAX(CASE WHEN p.tipo_despacho = 'judicial' THEN p.prazo_medio END) AS prazo_medio_jud\n",
    "  FROM qtd_processos q\n",
    "  LEFT JOIN prazo_medio p \n",
    "    ON q.competencia = p.competencia \n",
    "    AND q.beneficio = p.beneficio\n",
    "  GROUP BY \n",
    "    q.competencia,\n",
    "    q.beneficio,\n",
    "    q.qtd_administrativo,\n",
    "    q.qtd_judicial\n",
    "  ORDER BY\n",
    "   q.competencia,\n",
    "   q.beneficio\n",
    ")\n"
   ]
  }
 ],
 "metadata": {
  "application/vnd.databricks.v1+notebook": {
   "computePreferences": null,
   "dashboards": [],
   "environmentMetadata": {
    "base_environment": "",
    "environment_version": "2"
   },
   "inputWidgetPreferences": null,
   "language": "python",
   "notebookMetadata": {
    "mostRecentlyExecutedCommandWithImplicitDF": {
     "commandId": 5145772761869765,
     "dataframes": [
      "_sqldf"
     ]
    },
    "pythonIndentUnit": 4
   },
   "notebookName": "gold_fato_bpc_geral",
   "widgets": {}
  },
  "language_info": {
   "name": "python"
  }
 },
 "nbformat": 4,
 "nbformat_minor": 0
}
