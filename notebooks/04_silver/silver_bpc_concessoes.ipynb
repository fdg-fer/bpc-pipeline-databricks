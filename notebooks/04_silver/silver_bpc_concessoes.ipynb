{
 "cells": [
  {
   "cell_type": "markdown",
   "metadata": {
    "application/vnd.databricks.v1+cell": {
     "cellMetadata": {
      "byteLimit": 2048000,
      "rowLimit": 10000
     },
     "inputWidgets": {},
     "nuid": "920fb704-67ff-4b58-90f2-922925573d27",
     "showTitle": false,
     "tableResultSettingsMap": {},
     "title": ""
    }
   },
   "source": [
    "------------------------------\n",
    "###  1. Leitura da camada bronze\n",
    "-------------------------------"
   ]
  },
  {
   "cell_type": "code",
   "execution_count": 0,
   "metadata": {
    "application/vnd.databricks.v1+cell": {
     "cellMetadata": {
      "byteLimit": 2048000,
      "rowLimit": 10000
     },
     "inputWidgets": {},
     "nuid": "cabceb86-b7d0-4e64-910d-38c792cbec5e",
     "showTitle": false,
     "tableResultSettingsMap": {},
     "title": ""
    }
   },
   "outputs": [],
   "source": [
    "df = spark.table(\"portfolio_inss.bronze.bronze_inss_bpc_2025_01_06\")"
   ]
  },
  {
   "cell_type": "markdown",
   "metadata": {
    "application/vnd.databricks.v1+cell": {
     "cellMetadata": {
      "byteLimit": 2048000,
      "rowLimit": 10000
     },
     "inputWidgets": {},
     "nuid": "7e690b5b-10be-468c-9154-1307d3fdb1a6",
     "showTitle": false,
     "tableResultSettingsMap": {},
     "title": ""
    }
   },
   "source": [
    " ----------------------------------\n",
    "###  2. Visualização inicial da estrutura\n",
    " ---------------------------------- "
   ]
  },
  {
   "cell_type": "code",
   "execution_count": 0,
   "metadata": {
    "application/vnd.databricks.v1+cell": {
     "cellMetadata": {
      "byteLimit": 2048000,
      "rowLimit": 10000
     },
     "inputWidgets": {},
     "nuid": "a41e807a-06d3-4752-8ae6-efdd5ae677ca",
     "showTitle": false,
     "tableResultSettingsMap": {},
     "title": ""
    }
   },
   "outputs": [],
   "source": [
    "df.printSchema()"
   ]
  },
  {
   "cell_type": "markdown",
   "metadata": {
    "application/vnd.databricks.v1+cell": {
     "cellMetadata": {
      "byteLimit": 2048000,
      "rowLimit": 10000
     },
     "inputWidgets": {},
     "nuid": "2ce2009e-b61e-42ff-8864-e5820e3f142d",
     "showTitle": false,
     "tableResultSettingsMap": {},
     "title": ""
    }
   },
   "source": [
    "---------------------------\n",
    "### 4. Seleção de colunas úteis\n",
    "---------------------------\n"
   ]
  },
  {
   "cell_type": "code",
   "execution_count": 0,
   "metadata": {
    "application/vnd.databricks.v1+cell": {
     "cellMetadata": {
      "byteLimit": 2048000,
      "rowLimit": 10000
     },
     "inputWidgets": {},
     "nuid": "a62c48c9-5b1d-4a8a-b417-d771e91cf73c",
     "showTitle": false,
     "tableResultSettingsMap": {},
     "title": ""
    }
   },
   "outputs": [],
   "source": [
    "df = df.select('competência_concessão','espécie4','cid6','despacho','dt_nascimento','sexo','mun_resid','uf','dt_ddb','dt_dib')\n"
   ]
  },
  {
   "cell_type": "code",
   "execution_count": 0,
   "metadata": {
    "application/vnd.databricks.v1+cell": {
     "cellMetadata": {
      "byteLimit": 2048000,
      "rowLimit": 10000
     },
     "inputWidgets": {},
     "nuid": "a591fd47-f0e0-4bd0-90ae-4a178acd5300",
     "showTitle": false,
     "tableResultSettingsMap": {},
     "title": ""
    }
   },
   "outputs": [],
   "source": [
    "df.groupBy(\"competência_concessão\").count().display()\n",
    "df.groupBy(\"espécie4\").count().display()\n",
    "df.groupBy(\"sexo\").count().display()\n",
    "df.groupBy(\"uf\").count().display()\n",
    "df.groupBy(\"despacho\").count().display()"
   ]
  },
  {
   "cell_type": "markdown",
   "metadata": {
    "application/vnd.databricks.v1+cell": {
     "cellMetadata": {
      "byteLimit": 2048000,
      "rowLimit": 10000
     },
     "inputWidgets": {},
     "nuid": "a87f57ac-12e5-464a-8d70-f401dc7fb460",
     "showTitle": false,
     "tableResultSettingsMap": {},
     "title": ""
    }
   },
   "source": [
    "-----------------------------\n",
    "### 5. Conversão de datas\n",
    "-----------------------------"
   ]
  },
  {
   "cell_type": "code",
   "execution_count": 0,
   "metadata": {
    "application/vnd.databricks.v1+cell": {
     "cellMetadata": {
      "byteLimit": 2048000,
      "rowLimit": 10000
     },
     "inputWidgets": {},
     "nuid": "3d3f6119-a9f1-471d-ab49-887bf5b22e71",
     "showTitle": false,
     "tableResultSettingsMap": {},
     "title": ""
    }
   },
   "outputs": [],
   "source": [
    "df = df.withColumnRenamed('competência_concessão', 'competencia')"
   ]
  },
  {
   "cell_type": "code",
   "execution_count": 0,
   "metadata": {
    "application/vnd.databricks.v1+cell": {
     "cellMetadata": {
      "byteLimit": 2048000,
      "rowLimit": 10000
     },
     "inputWidgets": {},
     "nuid": "8f5c2a4d-50cd-4f67-b96a-11fd628b59c7",
     "showTitle": false,
     "tableResultSettingsMap": {},
     "title": ""
    }
   },
   "outputs": [],
   "source": [
    "df.display()"
   ]
  },
  {
   "cell_type": "code",
   "execution_count": 0,
   "metadata": {
    "application/vnd.databricks.v1+cell": {
     "cellMetadata": {
      "byteLimit": 2048000,
      "rowLimit": 10000
     },
     "inputWidgets": {},
     "nuid": "6ca93644-b0be-489a-89a2-29e6fc3abc96",
     "showTitle": false,
     "tableResultSettingsMap": {},
     "title": ""
    }
   },
   "outputs": [],
   "source": [
    "from pyspark.sql.functions import to_date, year, current_date, date_diff, floor,when, col, lower, expr\n",
    "\n",
    "df = df.withColumn(\"competencia\", to_date(expr(\"concat(competencia, '01')\"),\"yyyyMMdd\"))\\\n",
    "        .withColumn(\"dt_nascimento\", to_date(df.dt_nascimento, \"dd/MM/yyyy\"))\\\n",
    "        .withColumn(\"dt_ddb\", to_date(df.dt_ddb, \"dd/MM/yyyy\"))\\\n",
    "        .withColumn(\"dt_dib\", to_date(df.dt_dib, \"dd/MM/yyyy\"))\n",
    "        "
   ]
  },
  {
   "cell_type": "markdown",
   "metadata": {
    "application/vnd.databricks.v1+cell": {
     "cellMetadata": {
      "byteLimit": 2048000,
      "rowLimit": 10000
     },
     "inputWidgets": {},
     "nuid": "c8e959be-f076-4389-9b8e-c45f4b69c680",
     "showTitle": false,
     "tableResultSettingsMap": {},
     "title": ""
    }
   },
   "source": [
    "----------------------\n",
    "### 6. Criação de colunas\n",
    "----------------------"
   ]
  },
  {
   "cell_type": "markdown",
   "metadata": {
    "application/vnd.databricks.v1+cell": {
     "cellMetadata": {
      "byteLimit": 2048000,
      "rowLimit": 10000
     },
     "inputWidgets": {},
     "nuid": "a6a5cd4b-6cc2-4218-9276-495e501bebad",
     "showTitle": false,
     "tableResultSettingsMap": {},
     "title": ""
    }
   },
   "source": [
    "\n",
    "- **Criando colunas com regex para UF/Cidade onde o beneficiário reside**\n"
   ]
  },
  {
   "cell_type": "code",
   "execution_count": 0,
   "metadata": {
    "application/vnd.databricks.v1+cell": {
     "cellMetadata": {
      "byteLimit": 2048000,
      "rowLimit": 10000
     },
     "inputWidgets": {},
     "nuid": "549b6000-6002-45ac-934b-12551a125ad9",
     "showTitle": false,
     "tableResultSettingsMap": {},
     "title": ""
    }
   },
   "outputs": [],
   "source": [
    "# Criando colunas \n",
    "from pyspark.sql.functions import regexp_extract\n",
    "\n",
    "df = df.withColumn('COD_IBGE_resid', regexp_extract('mun_resid', r'(\\d+)', 1))\\\n",
    "            .withColumn('uf_resid', regexp_extract('mun_resid', r'(\\d+)-(\\w{2})-(.+)', 2))\\\n",
    "            .withColumn('cidade_resid', regexp_extract('mun_resid', r'(\\d+)-(\\w{2})-(.+)', 3))"
   ]
  },
  {
   "cell_type": "markdown",
   "metadata": {
    "application/vnd.databricks.v1+cell": {
     "cellMetadata": {
      "byteLimit": 2048000,
      "rowLimit": 10000
     },
     "inputWidgets": {},
     "nuid": "5e923101-3cec-4cc1-a8f5-d40c570a29e0",
     "showTitle": false,
     "tableResultSettingsMap": {},
     "title": ""
    }
   },
   "source": [
    "- **Cálculo de colunas derivadas(idade, tempo até despacho, tipo de despacho)**"
   ]
  },
  {
   "cell_type": "code",
   "execution_count": 0,
   "metadata": {
    "application/vnd.databricks.v1+cell": {
     "cellMetadata": {
      "byteLimit": 2048000,
      "rowLimit": 10000
     },
     "inputWidgets": {},
     "nuid": "32e9ccae-ace7-4e53-bffe-53c8d5c12545",
     "showTitle": false,
     "tableResultSettingsMap": {},
     "title": ""
    }
   },
   "outputs": [],
   "source": [
    "from pyspark.sql.types import FloatType\n",
    "df = df.withColumn(\"tipo_despacho\", when(lower(col(\"despacho\")).contains(\"judicial\"), \"judicial\").otherwise(\"administrativo\"))\\\n",
    "       .withColumn(\"idade\", floor(date_diff(current_date(), df.dt_nascimento)/365).cast(FloatType()))\\\n",
    "       .withColumn(\"dias_ate_despacho\", date_diff(\"dt_ddb\", \"dt_dib\").cast(FloatType()))"
   ]
  },
  {
   "cell_type": "markdown",
   "metadata": {
    "application/vnd.databricks.v1+cell": {
     "cellMetadata": {
      "byteLimit": 2048000,
      "rowLimit": 10000
     },
     "inputWidgets": {},
     "nuid": "fe1c2c16-3dc4-428f-964f-fd656a0f3fbc",
     "showTitle": false,
     "tableResultSettingsMap": {},
     "title": ""
    }
   },
   "source": [
    "**Expressão regex:** `r'(\\d+)-(\\w{2})-(.+)'`\n",
    "\n",
    "**Vamos quebrar por partes:**\n",
    "\n",
    "`(\\d+)`\t****->** Grupo 1:** um ou mais dígitos (\\d = número) — extrai o código IBGE\n",
    "\n",
    "`(\\w{2})`\t****->** Grupo 2:** duas letras (\\w = letra ou número) — extrai a UF\n",
    "\n",
    "`(.+)`\t****->** Grupo 3:** um ou mais caracteres — extrai o nome da cidade"
   ]
  },
  {
   "cell_type": "markdown",
   "metadata": {
    "application/vnd.databricks.v1+cell": {
     "cellMetadata": {
      "byteLimit": 2048000,
      "rowLimit": 10000
     },
     "inputWidgets": {},
     "nuid": "6718e854-bdd1-435c-8c76-efb99c0ae5a4",
     "showTitle": false,
     "tableResultSettingsMap": {},
     "title": ""
    }
   },
   "source": [
    "------------------------------------------\n",
    "### 7. Padronização de campos nulos/vazios\n",
    "------------------------------------------"
   ]
  },
  {
   "cell_type": "code",
   "execution_count": 0,
   "metadata": {
    "application/vnd.databricks.v1+cell": {
     "cellMetadata": {
      "byteLimit": 2048000,
      "rowLimit": 10000
     },
     "inputWidgets": {},
     "nuid": "36d37c50-ee7a-4b0c-b108-edde14544eea",
     "showTitle": false,
     "tableResultSettingsMap": {},
     "title": ""
    }
   },
   "outputs": [],
   "source": [
    "df = df.withColumn('cidade_resid', when(col('cidade_resid')== \"\", None).otherwise(col('cidade_resid')))\\\n",
    "       .withColumn('uf_resid', when(col('uf_resid')== \"\", None).otherwise(col('uf_resid')))\n",
    "                   \n",
    "\n",
    "df = df.fillna({'uf_resid': 'desconhecido', 'cidade_resid': 'desconhecido'})"
   ]
  },
  {
   "cell_type": "markdown",
   "metadata": {
    "application/vnd.databricks.v1+cell": {
     "cellMetadata": {
      "byteLimit": 2048000,
      "rowLimit": 10000
     },
     "inputWidgets": {},
     "nuid": "c7d9a955-0339-4816-ba41-7a0184dd3c42",
     "showTitle": false,
     "tableResultSettingsMap": {},
     "title": ""
    }
   },
   "source": [
    "----------------------------------------------\n",
    "### 8. Apagando colunas que não serão mais uasadas\n",
    "----------------------------------------------"
   ]
  },
  {
   "cell_type": "code",
   "execution_count": 0,
   "metadata": {
    "application/vnd.databricks.v1+cell": {
     "cellMetadata": {
      "byteLimit": 2048000,
      "rowLimit": 10000
     },
     "inputWidgets": {},
     "nuid": "0c394a2c-453d-4c66-a296-ef7f611dff1c",
     "showTitle": false,
     "tableResultSettingsMap": {},
     "title": ""
    }
   },
   "outputs": [],
   "source": [
    "df = df.drop('mun_resid', 'despacho')\n",
    "\n",
    "\n",
    "df = df.withColumnRenamed('uf', 'uf_julgado')\\\n",
    "       .withColumnRenamed('espécie4', 'beneficio')\\\n",
    "       .withColumnRenamed('dt_ddb', 'dt_despacho')\\\n",
    "       .withColumnRenamed('dt_dib', 'dt_inicio_beneficio')\\\n",
    "       .withColumnRenamed('cid6', 'cid')"
   ]
  },
  {
   "cell_type": "code",
   "execution_count": 0,
   "metadata": {
    "application/vnd.databricks.v1+cell": {
     "cellMetadata": {
      "byteLimit": 2048000,
      "rowLimit": 10000
     },
     "inputWidgets": {},
     "nuid": "cf25677a-8fbb-450c-a1b2-19146cf9c0c1",
     "showTitle": false,
     "tableResultSettingsMap": {},
     "title": ""
    }
   },
   "outputs": [],
   "source": [
    "from pyspark.sql.functions import when, col, lower\n",
    "\n",
    "# Carrega os DataFrames\n",
    "df_uf_municipios = spark.table(\"portfolio_inss.silver.uf_regiao\")\n",
    "\n",
    "# Faz o join\n",
    "df_joined = df.join(\n",
    "    df_uf_municipios,\n",
    "    df[\"uf_resid\"] == df_uf_municipios[\"Sigla\"],\n",
    "    how=\"left\"\n",
    ")\n",
    "\n",
    "# Cria as novas colunas com lógica condicional\n",
    "df_final = df_joined.withColumn(\n",
    "    \"uf_final\",\n",
    "    when((lower(col(\"uf_resid\")) == \"desconhecido\") | col(\"uf_resid\").isNull(), col(\"uf_julgado\"))\n",
    "    .otherwise(col(\"UF\"))\n",
    ").withColumn(\n",
    "    \"flag_origem_uf\",\n",
    "    when((lower(col(\"uf_resid\")) == \"desconhecido\") | col(\"uf_resid\").isNull(), \"julgado\")\n",
    "    .otherwise(\"resid\")\n",
    ")\n",
    "\n",
    "# Exibe o resultado\n",
    "colunas_originais = df.columns\n",
    "df_result = df_final.select(*colunas_originais,\"uf_final\", \"flag_origem_uf\")\n",
    "\n"
   ]
  },
  {
   "cell_type": "code",
   "execution_count": 0,
   "metadata": {
    "application/vnd.databricks.v1+cell": {
     "cellMetadata": {
      "byteLimit": 2048000,
      "rowLimit": 10000
     },
     "inputWidgets": {},
     "nuid": "b31d972b-f861-45b5-ab73-00810a45c44b",
     "showTitle": false,
     "tableResultSettingsMap": {},
     "title": ""
    }
   },
   "outputs": [],
   "source": [
    "df_result.write.format(\"delta\")\\\n",
    "    .mode(\"overwrite\")\\\n",
    "    .saveAsTable(\"portfolio_inss.silver.silver_bpc_concessoes\")"
   ]
  }
 ],
 "metadata": {
  "application/vnd.databricks.v1+notebook": {
   "computePreferences": {
    "hardware": {
     "accelerator": null,
     "gpuPoolId": null,
     "memory": null
    }
   },
   "dashboards": [],
   "environmentMetadata": {
    "base_environment": "",
    "environment_version": "2"
   },
   "inputWidgetPreferences": null,
   "language": "python",
   "notebookMetadata": {
    "mostRecentlyExecutedCommandWithImplicitDF": {
     "commandId": 6569616291660727,
     "dataframes": [
      "_sqldf"
     ]
    },
    "pythonIndentUnit": 4
   },
   "notebookName": "silver_bpc_concessoes",
   "widgets": {}
  },
  "language_info": {
   "name": "python"
  }
 },
 "nbformat": 4,
 "nbformat_minor": 0
}
