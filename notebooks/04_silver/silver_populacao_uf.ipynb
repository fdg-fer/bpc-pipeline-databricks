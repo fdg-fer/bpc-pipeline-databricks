{
 "cells": [
  {
   "cell_type": "code",
   "execution_count": 0,
   "metadata": {
    "application/vnd.databricks.v1+cell": {
     "cellMetadata": {
      "byteLimit": 2048000,
      "implicitDf": true,
      "rowLimit": 10000
     },
     "inputWidgets": {},
     "nuid": "a5d06383-f92d-4a02-a2f7-8e2b786c6a94",
     "showTitle": false,
     "tableResultSettingsMap": {},
     "title": ""
    }
   },
   "outputs": [],
   "source": [
    "%sql\n",
    "create or replace table portfolio_inss.silver.silver_ibge_populacao_uf\n",
    "  select \n",
    "    m.CD_MUN as cod_municipio,\n",
    "    m.NM_MUN as nome_municipio,\n",
    "    m.SIGLA_UF as sigla_uf,\n",
    "    m.NM_UF as nome_uf,\n",
    "    p.idade_anos,\n",
    "    p.populacao,\n",
    "    p.sexo\n",
    "  from portfolio_inss.silver.silver_ibge_populacao as p\n",
    "  left join portfolio_inss.silver.silver_municipios_ibge as m\n",
    "    on p.id_municipio = m.CD_MUN\n"
   ]
  }
 ],
 "metadata": {
  "application/vnd.databricks.v1+notebook": {
   "computePreferences": {
    "hardware": {
     "accelerator": null,
     "gpuPoolId": null,
     "memory": null
    }
   },
   "dashboards": [],
   "environmentMetadata": {
    "base_environment": "",
    "environment_version": "2"
   },
   "inputWidgetPreferences": null,
   "language": "python",
   "notebookMetadata": {
    "mostRecentlyExecutedCommandWithImplicitDF": {
     "commandId": 7199016855053370,
     "dataframes": [
      "_sqldf"
     ]
    },
    "pythonIndentUnit": 4
   },
   "notebookName": "silver_populacao_uf",
   "widgets": {}
  },
  "language_info": {
   "name": "python"
  }
 },
 "nbformat": 4,
 "nbformat_minor": 0
}
