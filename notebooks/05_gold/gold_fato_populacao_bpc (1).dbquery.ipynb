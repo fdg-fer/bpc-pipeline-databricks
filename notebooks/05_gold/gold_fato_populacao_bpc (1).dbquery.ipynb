{
 "cells": [
  {
   "cell_type": "code",
   "execution_count": 0,
   "metadata": {
    "application/vnd.databricks.v1+cell": {
     "cellMetadata": {},
     "inputWidgets": {},
     "nuid": "f704691f-e6e7-4814-ab67-79f90996c9e2",
     "showTitle": false,
     "tableResultSettingsMap": {},
     "title": ""
    }
   },
   "outputs": [],
   "source": [
    "# Cria a tabela púplivo alvo BPC granularidade por UF a partir do censo IBGE 2022\n",
    "# Público >= 65 BPC Idoso\n",
    "# Público < 65 BPC Deficiente\n",
    " \n",
    "\n",
    "CREATE OR REPLACE TABLE portfolio_inss.gold.gold_fato_populacao_bpc as(\n",
    "\n",
    "WITH \n",
    "  bpc AS (\n",
    "      SELECT \n",
    "        uf_final,\n",
    "        beneficio,\n",
    "        SUM(qtd_total_concedido) AS qtd_beneficio_bpc,\n",
    "        count(distinct competencia) as qtd_competencias,\n",
    "        round(qtd_beneficio_bpc/qtd_competencias, 0) as media_beneficio\n",
    "      FROM portfolio_inss.gold.gold_bpc_uf\n",
    "      where competencia >= '2025-01-01'\n",
    "      GROUP BY\n",
    "        uf_final, beneficio\n",
    "  ), \n",
    "  populacao_bpc AS (\n",
    "      SELECT \n",
    "        sigla_uf,\n",
    "        nome_uf,\n",
    "        SUM(CASE WHEN idade_anos < 65 THEN populacao ELSE 0 END) AS populacao_deficiente,\n",
    "        SUM(CASE WHEN idade_anos >= 65 THEN populacao ELSE 0 END) AS populacao_idosa\n",
    "      FROM portfolio_inss.silver.silver_ibge_populacao_uf\n",
    "      GROUP BY sigla_uf ,nome_uf\n",
    "  )\n",
    "SELECT \n",
    "    p.sigla_uf,\n",
    "    b.uf_final,\n",
    "    b.beneficio,\n",
    "    b.qtd_beneficio_bpc,\n",
    "    b.media_beneficio,\n",
    "    CASE \n",
    "        WHEN b.beneficio = 'Amp. Social Pessoa Portadora Deficiencia' THEN p.populacao_deficiente\n",
    "        WHEN b.beneficio = 'Amparo Social ao Idoso' THEN p.populacao_idosa\n",
    "        ELSE NULL\n",
    "    END AS populacao_alvo\n",
    "FROM bpc b\n",
    "LEFT JOIN populacao_bpc p\n",
    "    ON b.uf_final = p.nome_uf\n",
    ")"
   ]
  }
 ],
 "metadata": {
  "application/vnd.databricks.v1+notebook": {
   "computePreferences": null,
   "dashboards": [],
   "environmentMetadata": null,
   "inputWidgetPreferences": null,
   "language": "sql",
   "notebookMetadata": {
    "sqlQueryOptions": {
     "applyAutoLimit": true,
     "catalog": "workspace",
     "schema": "default"
    }
   },
   "notebookName": "gold_fato_populacao_bpc (1).dbquery.ipynb",
   "widgets": {}
  },
  "language_info": {
   "name": "sql"
  }
 },
 "nbformat": 4,
 "nbformat_minor": 0
}
